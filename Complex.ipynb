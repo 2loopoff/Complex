{
 "cells": [
  {
   "cell_type": "markdown",
   "metadata": {},
   "source": [
    "# Complex numbers in python\n",
    "### Developed for eltech processing\n",
    "\n",
    "## Part 1. Introduction\n"
   ]
  },
  {
   "cell_type": "code",
   "execution_count": 1,
   "metadata": {},
   "outputs": [],
   "source": [
    "import cmath  # For advanced features e.g. pfase, polar.\n",
    "# cmath means Complex MATH\n",
    "\n",
    "import math  # To work with square roots, pi..."
   ]
  },
  {
   "cell_type": "code",
   "execution_count": 2,
   "metadata": {},
   "outputs": [
    {
     "name": "stdout",
     "output_type": "stream",
     "text": [
      "z1= (3+4j) \n",
      "z2= (-2+5j)\n",
      "z1*z2= (-26+7j)\n",
      "z1^2= (-7+24j)\n"
     ]
    }
   ],
   "source": [
    "# Basics functionality\n",
    "z1 = complex(3,4)\n",
    "z2 = complex(-2,5)\n",
    "\n",
    "print('z1=', z1, '\\nz2=', z2)\n",
    "print('z1*z2=', z1*z2)\n",
    "print('z1^2=',z1**2)"
   ]
  },
  {
   "cell_type": "code",
   "execution_count": 3,
   "metadata": {},
   "outputs": [
    {
     "name": "stdout",
     "output_type": "stream",
     "text": [
      "The modulus and argument of polar complex number is :\n",
      "(1.4142135623730951, 0.7853981633974483)\n",
      "\n",
      "sqrt(2)= 1.4142135623730951\n",
      "pi/4= 0.7853981633974483\n",
      "\n",
      "It works! Wow!\n"
     ]
    }
   ],
   "source": [
    "# Advanced functionality (using cmath package)\n",
    "\n",
    "z3 = complex(1,1)  # z3 = 1+i: r = sqrt(2), phase = +pi/4 - expected\n",
    "w = cmath.polar(z3)  # Convert complex number to polar form\n",
    "  \n",
    "print (\"The modulus and argument of polar complex number is :\")\n",
    "print(w)\n",
    "\n",
    "print('\\nsqrt(2)=', math.sqrt(2))\n",
    "print('pi/4=', math.pi/4)\n",
    "\n",
    "print('\\nIt works! Wow!')"
   ]
  },
  {
   "cell_type": "code",
   "execution_count": 4,
   "metadata": {},
   "outputs": [
    {
     "name": "stdout",
     "output_type": "stream",
     "text": [
      "r is 1.4142135623730951\n",
      "phase is 0.7853981633974483\n"
     ]
    }
   ],
   "source": [
    "# The r and phase could be extracted by:\n",
    "radius_peremennaya = w[0]  # You can name em by your way\n",
    "phasa_peremennaya = w[1]  # Don't be afraid :) \n",
    "\n",
    "print('r is', radius_peremennaya)\n",
    "print('phase is', phasa_peremennaya)"
   ]
  },
  {
   "cell_type": "code",
   "execution_count": 5,
   "metadata": {},
   "outputs": [
    {
     "name": "stdout",
     "output_type": "stream",
     "text": [
      "w = (1.4142135623730951, 0.7853981633974483) - in polar form\n",
      "The rectangular form of w is : \n",
      "(1.0000000000000002+1j)\n",
      "Uncertainty is connected with python's accuracy. It's ok.\n"
     ]
    }
   ],
   "source": [
    "# To transform polar form to the rectangular use rect(r, phi) function:\n",
    "print('w =',w, '- in polar form')\n",
    "z = cmath.rect(w[0],w[1])\n",
    "print(\"The rectangular form of w is : \")\n",
    "print(z)\n",
    "\n",
    "print('Uncertainty is connected with python\\'s accuracy. It\\'s ok.')"
   ]
  },
  {
   "cell_type": "code",
   "execution_count": 6,
   "metadata": {},
   "outputs": [
    {
     "name": "stdout",
     "output_type": "stream",
     "text": [
      "(1.4142135623730951, 1.5707963267948966)\n",
      "(2.8284271247461903, -1.5707963267948968)\n",
      "\n",
      " Re(z3)= 4.000000000000001\n",
      "Im(z3)= -9.797174393178828e-16\n",
      "w3 = ( 4.000000000000001 , -2.4492935982947064e-16 )\n",
      "\n",
      "Re(z3)= 4.0\n",
      "Im(z3)= -0.0\n",
      "w3 = ( 4.0 , -0.0 )\n"
     ]
    }
   ],
   "source": [
    "# Some additional examples\n",
    "z1 = cmath.rect(math.sqrt(2), math.pi/2)  # Initial z1 with r and phi\n",
    "w1 = cmath.polar(z1)  # Convert z1 to a polar form\n",
    "print(w1)\n",
    "\n",
    "z2 = cmath.rect(math.sqrt(8), 3*math.pi/2) # Initial z2 with r and phi\n",
    "w2 = cmath.polar(z2)  # Convert z2 to a polar form\n",
    "print(w2)  # !Note that +3pi/2 is the same as a -pi/2\n",
    "\n",
    "z3 = z1*z2\n",
    "print('\\n Re(z3)=', z3.real )\n",
    "print('Im(z3)=',    z3.imag )\n",
    "\n",
    "# Or in the polar form:\n",
    "r3 = cmath.polar(z1*z2)[0]\n",
    "phase3 = cmath.polar(z1*z2)[1]\n",
    "print('w3 = (',r3, ',', phase3,')')\n",
    "\n",
    "# To exclude a \"trash of accuracy\" out from the results one can use a round() function:\n",
    "print('\\nRe(z3)=', round(z3.real,5)  )\n",
    "print('Im(z3)=',   round(z3.imag,5)  )\n",
    "\n",
    "# The same for polar one:\n",
    "print('w3 = (', round(r3, 5) , ',', round(phase3, 5),')')"
   ]
  },
  {
   "cell_type": "markdown",
   "metadata": {},
   "source": [
    "### Using this package u can produce the eltech BDZ without any problems!\n",
    "#### Good luck!\n"
   ]
  },
  {
   "cell_type": "markdown",
   "metadata": {},
   "source": [
    "## Part 2. Draw with the matplotlib package\n",
    "### It's powerfull but more difficult"
   ]
  },
  {
   "cell_type": "code",
   "execution_count": 91,
   "metadata": {},
   "outputs": [],
   "source": [
    "import matplotlib.pyplot as plt\n",
    "import matplotlib as mpl\n",
    "import matplotlib.cm as cm\n",
    "import numpy as np"
   ]
  },
  {
   "cell_type": "code",
   "execution_count": 8,
   "metadata": {},
   "outputs": [
    {
     "data": {
      "image/png": "[encoded data removed]",
      "text/plain": [
       "<Figure size 576x504 with 1 Axes>"
      ]
     },
     "metadata": {
      "needs_background": "light"
     },
     "output_type": "display_data"
    }
   ],
   "source": [
    "# create data of complex numbers\n",
    "z1 = complex(1.0, 1)\n",
    "z2 = complex(2.0, -1)\n",
    "z3 = complex(-1.0, 3)\n",
    "z4 = complex(-1.5, 0)\n",
    "\n",
    "data = [z1,z2,z3,z4]\n",
    "# Convert to numpy format\n",
    "data = np.array(data)\n",
    "\n",
    "\n",
    "# extract real part using numpy array\n",
    "x = data.real\n",
    "# extract imaginary part using numpy array\n",
    "y = data.imag\n",
    "\n",
    "\n",
    "# plot the complex numbers\n",
    "plt.figure(figsize=(8, 7))\n",
    "plt.scatter(x, y)\n",
    "plt.ylabel('Imaginary')\n",
    "plt.xlabel('Real')\n",
    "plt.show()"
   ]
  },
  {
   "cell_type": "code",
   "execution_count": 9,
   "metadata": {},
   "outputs": [
    {
     "data": {
      "image/png": "[encoded data removed]",
      "text/plain": [
       "<Figure size 576x576 with 1 Axes>"
      ]
     },
     "metadata": {
      "needs_background": "light"
     },
     "output_type": "display_data"
    }
   ],
   "source": [
    "plt.figure(figsize=(8, 8))\n",
    "\n",
    "# Advanced example\n",
    "data = []\n",
    "for x in np.linspace(-10,10,1000):\n",
    "    for y in np.linspace(-10,10,1000):\n",
    "        z = complex(x,y)\n",
    "        if abs((z.conjugate()*z).real - 64) < 1:  # if z^2 - 64 < 1\n",
    "            data.append(z) \n",
    "\n",
    "data = np.array(data)\n",
    "# extract real part using numpy array\n",
    "x = data.real\n",
    "# extract imaginary part using numpy array\n",
    "y = data.imag\n",
    "\n",
    "plt.scatter(x, y, label=r'$circle:\\; z\\cdot z* - 64 < 1$',c='r')\n",
    "plt.ylabel('Imaginary',fontsize=15)\n",
    "plt.xlabel('Real',fontsize=15)\n",
    "plt.legend(fontsize=15)\n",
    "plt.show()"
   ]
  },
  {
   "cell_type": "markdown",
   "metadata": {},
   "source": [
    "# Part 3 Draw with the custom function\n",
    "### Powerfull and easy to use!"
   ]
  },
  {
   "cell_type": "markdown",
   "metadata": {},
   "source": [
    "in progress:\n",
    "* Arrows:\n",
    "    * Do an arrow plot - DONE\n",
    "    * Arrows with the names\n",
    "* Customize axis"
   ]
  },
  {
   "cell_type": "code",
   "execution_count": 300,
   "metadata": {},
   "outputs": [],
   "source": [
    "import matplotlib.pyplot as plt\n",
    "import matplotlib as mpl\n",
    "import matplotlib.cm as cm\n",
    "import numpy as np\n",
    "\n",
    "# Define the |z| as a sqrt(zz*):\n",
    "cabs = lambda z: math.sqrt((z*z.conjugate()).real)  # cabs = Complex ABS\n",
    "\n",
    "\n",
    "def _colorize(arr):  # e.g. [1,3,2,5,4] -> 5 colors\n",
    "        norm = mpl.colors.Normalize(vmin=np.min(arr), vmax=np.max(arr))\n",
    "        cmap = cm.Accent\n",
    "        m = cm.ScalarMappable(norm=norm, cmap=cmap)\n",
    "        return m.to_rgba(arr)\n",
    "\n",
    "\n",
    "def drawz(z_array,  # Array with complex numbers you want to draw \n",
    "          names=[],  # Array with names of the variables \n",
    "          leg_on=True,  # Turns off the legend\n",
    "          scale=1,  # Scales the canvas if it's too small\n",
    "          no_arrows=False  # Turns off the arrows \n",
    "         ):\n",
    "\n",
    "    # Check the input data\n",
    "    assert type(z_array) == list\n",
    "    \n",
    "    for z in z_array:\n",
    "        assert type(z) == complex\n",
    "        \n",
    "#     if len(names) > 0:\n",
    "#         assert len(names) == len(z_array)\n",
    "\n",
    "    # Adjust the canvas\n",
    "    zrls = [z.real for z in z_array]; zrls.append(0)\n",
    "    zims = [z.imag for z in z_array]; zims.append(0)\n",
    "    \n",
    "    xmin = min(zrls);  xmax = max(zrls) \n",
    "    ymin = min(zims);  ymax = max(zims) \n",
    "    \n",
    "    Lx = xmax - xmin\n",
    "    Ly = ymax - ymin\n",
    "\n",
    "    fig = plt.figure(figsize=(Lx*scale, Ly*scale))\n",
    "    plt.xlim(xmin*1.02-0.05, xmax*1.02+0.05)\n",
    "    plt.ylim(ymin*1.02-0.05, ymax*1.02+0.05)\n",
    "    \n",
    "    # Plot\n",
    "    clrs = _colorize( [i for i in range(len(z_array))] )\n",
    "    lw = canv_size/3\n",
    "    \n",
    "    for i,z in enumerate(z_array):\n",
    "        clr = clrs[i]\n",
    "        _strp = 0.02*cabs(z)\n",
    "        \n",
    "        # Select a name from the list\n",
    "        name = ''\n",
    "        if len(names) > i:\n",
    "            name = names[i]\n",
    "        \n",
    "        # Draw a line\n",
    "        plt.plot([0, z.real*0.99], [0, z.imag*0.99], lw=lw, c=clr, \n",
    "                 label = name+' = '+str(z))\n",
    "        \n",
    "        # Draw an arrow\n",
    "        if not no_arrows:\n",
    "            zn = complex(z.imag/cabs(z),  # normal vector to z\n",
    "                         -z.real/cabs(z))\n",
    "            w_p = z*0.95+zn*_strp  # Right-side point (rsp)\n",
    "            w_m = z*0.95-zn*_strp  # Left-side point (lsp)\n",
    "            \n",
    "            # Plot the line across rsp, z, lsp - it's an arrow!\n",
    "            plt.plot([w_p.real, z.real, w_m.real], \n",
    "                     [w_p.imag, z.imag, w_m.imag], lw=lw, c=clr)\n",
    "    \n",
    "    # Setting up the axis\n",
    "    plt.ylabel('Imaginary',fontsize=15)\n",
    "    plt.xlabel('Real',fontsize=15)\n",
    "    \n",
    "    # Draw a legend & grid\n",
    "    if leg_on: plt.legend(fontsize=10)\n",
    "    plt.grid()\n",
    "\n",
    "    return fig"
   ]
  },
  {
   "cell_type": "code",
   "execution_count": 301,
   "metadata": {},
   "outputs": [
    {
     "data": {
      "image/png": "[encoded data removed]",
      "text/plain": [
       "<Figure size 216x360 with 1 Axes>"
      ]
     },
     "metadata": {
      "needs_background": "light"
     },
     "output_type": "display_data"
    }
   ],
   "source": [
    "z1 = 1-3j\n",
    "z2 = -2+2j\n",
    "# z_array = [z1+i for i in np.linspace(1,2,4)]\n",
    "z_array = [z1,z2]\n",
    "names = ['I1']\n",
    "fig = drawz(z_array, names=names, leg_on=True, scale=1, no_arrows=False)\n",
    "fig.savefig('Complex_draw.pdf')"
   ]
  },
  {
   "cell_type": "markdown",
   "metadata": {},
   "source": [
    "# Part 4. Practice"
   ]
  },
  {
   "cell_type": "code",
   "execution_count": null,
   "metadata": {},
   "outputs": [],
   "source": [
    "# coming soon"
   ]
  },
  {
   "cell_type": "markdown",
   "metadata": {},
   "source": [
    "# Backup"
   ]
  },
  {
   "cell_type": "code",
   "execution_count": 218,
   "metadata": {},
   "outputs": [
    {
     "data": {
      "image/png": "[encoded data removed]",
      "text/plain": [
       "<Figure size 504x504 with 1 Axes>"
      ]
     },
     "metadata": {
      "needs_background": "light"
     },
     "output_type": "display_data"
    }
   ],
   "source": [
    "# Backup\n",
    "\n",
    "\n",
    "canv_size = 7\n",
    "lw = canv_size/3\n",
    "_strp = 0.1\n",
    "clr = 'r'\n",
    "plt.figure(figsize=(canv_size, canv_size))\n",
    "\n",
    "z = complex(3,4)\n",
    "\n",
    "lmm = max(abs(z.imag),abs(z.real))\n",
    "plt.ylim(-lmm-0.1, lmm+0.1)\n",
    "plt.xlim(-lmm-0.1, lmm+0.1)\n",
    "\n",
    "zn = complex(z.imag/cabs(z), -z.real/cabs(z))  # normal vector to z\n",
    "w_p = z*0.95+zn*_strp\n",
    "w_m = z*0.95-zn*_strp\n",
    "\n",
    "plt.plot([0, z.real], [0, z.imag], lw=lw, c=clr)\n",
    "plt.plot([w_p.real, z.real], [w_p.imag, z.imag], lw=lw, c=clr)\n",
    "plt.plot([w_m.real, z.real], [w_m.imag, z.imag], lw=lw, c=clr)\n",
    "\n",
    "plt.savefig('Complex_draw.pdf')\n",
    "\n",
    "  \n",
    "# nLx, nx = round(Lx), 0\n",
    "# nLy, ny = round(Ly), 0\n",
    "# \n",
    "# while(nLx == 0):\n",
    "#     Lx *= 10\n",
    "#     nLx = round(Lx)\n",
    "#     nx+=1\n",
    "# \n",
    "# while(nLy == 0):\n",
    "#     Ly *= 10\n",
    "#     nLy = round(Ly)\n",
    "#     ny+=1 "
   ]
  }
 ],
 "metadata": {
  "kernelspec": {
   "display_name": "Python 3",
   "language": "python",
   "name": "python3"
  },
  "language_info": {
   "codemirror_mode": {
    "name": "ipython",
    "version": 3
   },
   "file_extension": ".py",
   "mimetype": "text/x-python",
   "name": "python",
   "nbconvert_exporter": "python",
   "pygments_lexer": "ipython3",
   "version": "3.8.3"
  }
 },
 "nbformat": 4,
 "nbformat_minor": 4
}
